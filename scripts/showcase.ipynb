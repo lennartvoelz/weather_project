{
 "cells": [
  {
   "cell_type": "code",
   "execution_count": 6,
   "metadata": {},
   "outputs": [],
   "source": [
    "from imports import np, tf\n",
    "import data_processing"
   ]
  },
  {
   "cell_type": "code",
   "execution_count": 12,
   "metadata": {},
   "outputs": [
    {
     "name": "stdout",
     "output_type": "stream",
     "text": [
      "      precipitation  temp_max  temp_min  wind  weather\n",
      "0               0.0      12.8       5.0   4.7  drizzle\n",
      "1              10.9      10.6       2.8   4.5     rain\n",
      "2               0.8      11.7       7.2   2.3     rain\n",
      "3              20.3      12.2       5.6   4.7     rain\n",
      "4               1.3       8.9       2.8   6.1     rain\n",
      "...             ...       ...       ...   ...      ...\n",
      "1456            8.6       4.4       1.7   2.9     rain\n",
      "1457            1.5       5.0       1.7   1.3     rain\n",
      "1458            0.0       7.2       0.6   2.6      fog\n",
      "1459            0.0       5.6      -1.0   3.4      sun\n",
      "1460            0.0       5.6      -2.1   3.5      sun\n",
      "\n",
      "[1461 rows x 5 columns]\n",
      "(1461, 5)\n"
     ]
    }
   ],
   "source": [
    "#Load data\n",
    "data = data_processing.preprocess_data()\n",
    "print(data[0])\n",
    "\n",
    "input_shape = data[1].shape\n",
    "print(input_shape)"
   ]
  }
 ],
 "metadata": {
  "kernelspec": {
   "display_name": "ml",
   "language": "python",
   "name": "python3"
  },
  "language_info": {
   "codemirror_mode": {
    "name": "ipython",
    "version": 3
   },
   "file_extension": ".py",
   "mimetype": "text/x-python",
   "name": "python",
   "nbconvert_exporter": "python",
   "pygments_lexer": "ipython3",
   "version": "3.10.13"
  }
 },
 "nbformat": 4,
 "nbformat_minor": 2
}
